{
 "cells": [
  {
   "cell_type": "markdown",
   "metadata": {},
   "source": [
    "Open Cv python day1 \n",
    "What is image processing?\n",
    "\n",
    "Image processing is a method to perform operations on images, in order to enhance them or extract useful information, analyze it and make decisions.\n",
    "Image processing involves various techniques and algorithms to manipulate and analyze digital images. It is widely used in fields such as medical imaging, remote sensing, and computer vision. Key tasks in image processing include image enhancement, restoration, segmentation, and feature extraction."
   ]
  },
  {
   "cell_type": "markdown",
   "metadata": {},
   "source": [
    "1. Applications\n",
    "\n",
    "There is a wide range of applications. Such as the analysis of medical images, artificial intelligence, image restoration, surveillance and many more.\n",
    "\n",
    "2. Purposes\n",
    "\n",
    "The purpose of image processing can be divided into five groups. Visualization: observe objects that are not visible. Image sharpening and restoration: to create a better image. Image retrieval: to seek for the image of interest. Measurement of pattern: to measure objects. And Image Recognition: to distinguish objects in an image.\n",
    "\n",
    "3. Intro to scikit-image\n",
    "01:09 - 01:26\n",
    "scikit-image is an image processing library in Python that is easy to use. scikit-image makes use of Machine Learning with built-in functions, and can perform complex operations on images with just a few functions. We will use scikit-image throughout this course.\n",
    "\n",
    "4. What is an image?\n",
    "01:26 - 01:48\n",
    "Let's get started with images! A digital image is an array, or a matrix, of square pixels (picture elements) arranged in columns and rows: in other words, a 2-dimensional matrix.\n",
    "\n",
    "5. What is an image?\n",
    "01:48 - 02:14\n",
    "These pixels contain information about color and intensity. Here's an example of the matrix for a 2D grayscale image. Here we can see that the first image is a pixelated image. The numbers that we see on top of the following image next to the first one correspond to the intensity of each pixel in the image. So at the end, an image can be treated as an intensities matrix.\n",
    "\n",
    "6. Images in scikit-image\n",
    "02:14 - 02:33\n",
    "There are some testing-purpose images provided by scikit-image, in a module called data. If we want to load a colored image of a rocket, we can do so by: Importing data from skimage. And then from data, call a method named rocket.\n",
    "\n",
    "7. RGB channels\n",
    "02:33 - 02:48\n",
    "2-dimensional color images are often represented in RGB—3 layers of 2-dimensional arrays, where the three layers represent Red, Green and Blue channels of the image.\n",
    "\n",
    "8. Grayscaled images\n",
    "02:48 - 03:06\n",
    "Grayscale images only have shades of black and white. Often, the grayscale intensity is stored as an 8-bit integer giving 256 possible different shades of gray. Grayscale images don't have any color information.\n",
    "\n",
    "9. RGB vs Grayscale\n",
    "03:06 - 03:29\n",
    "RGB images have three color channels, while grayscaled ones have a single channel. We can convert an image with RGB channels into grayscale using the function rgb2gray() provided in the color module. We can also turn grayscale to RGB using gray2rgb().\n",
    "\n",
    "10. Visualizing images in the course\n",
    "03:29 - 03:45\n",
    "During the course, we'll usually use a preloaded function called show image to display the images using Matplotlib. This way we can focus on image processing code. This is what the show image function looks like.\n",
    "\n",
    "11. Visualizing images in the course\n",
    "03:45 - 04:01\n",
    "So if we want to show an image that we have converted to grayscale, we just need to pass the image as the first parameter of the \"show_image\" function and the title \"Grayscale\" as the second parameter. We will then see the image displayed in the console output."
   ]
  },
  {
   "cell_type": "markdown",
   "metadata": {},
   "source": [
    "```markdown\n",
    "## What is scikit-image?\n",
    "\n",
    "scikit-image is an open-source image processing library for Python. It is designed to be easy to use and integrates well with other scientific Python libraries such as NumPy and SciPy. scikit-image provides a collection of algorithms for image processing, including:\n",
    "\n",
    "- Image filtering\n",
    "- Morphological operations\n",
    "- Segmentation\n",
    "- Color manipulation\n",
    "- Feature detection\n",
    "- Geometric transformations\n",
    "\n",
    "The library is widely used in academic research, industrial applications, and educational purposes due to its simplicity and effectiveness. Throughout this course, we will use scikit-image to perform various image processing tasks.\n",
    "```"
   ]
  },
  {
   "cell_type": "code",
   "execution_count": 1,
   "metadata": {},
   "outputs": [],
   "source": [
    "import matplotlib.pyplot as plt\n",
    "from skimage import data, io, color\n",
    "\n",
    "def show_image(image, title='Image', cmap_type='gray'):\n",
    "    plt.imshow(image, cmap=cmap_type)\n",
    "    plt.title(title)\n",
    "    plt.axis('off')\n",
    "    plt.show()\n",
    "\n",
    "kolkata_image = plt.imread('kolkata.jpg')\n",
    "# Extract the red, green, and blue channels from the kolkata_image the height, width, and color channels of the image\n",
    "# height and width are nil dimensions of the image because to get the color channels we need to use the slicing method\n",
    "red_channel = kolkata_image[:, :, 0]\n",
    "green_channel = kolkata_image[:, :, 1]\n",
    "blue_channel = kolkata_image[:, :, 2]\n",
    "\n",
    "# Display the original image and the individual color channels\n",
    "show_image(kolkata_image, title='Original Kolkata Image')\n",
    "#convert the image to grayscale\n",
    "kolkata_image_gray = color.rgb2gray(kolkata_image)\n",
    "show_image(kolkata_image_gray, title='Grayscale Image')\n",
    "show_image(red_channel, title='Red Channel', cmap_type='Reds')\n",
    "show_image(green_channel, title='Green Channel', cmap_type='Greens')\n",
    "show_image(blue_channel, title='Blue Channel', cmap_type='Blues')\n",
    "\n",
    "#Display the other ctypes of the image\n",
    "print(kolkata_image.dtype)\n",
    "\n",
    "#Display the maximum and minimum values of the image pixels \n",
    "print(kolkata_image.max(), kolkata_image.min())\n",
    "\n",
    "# Display the shape of the image\n",
    "print(kolkata_image.shape)\n",
    "#output the height, width, and color channels of the image\n",
    "\n",
    "# Display the number of pixels in the image\n",
    "print(kolkata_image.size)\n",
    "\n",
    "\n",
    "\n",
    "\n"
   ]
  },
  {
   "cell_type": "markdown",
   "metadata": {},
   "source": [
    "Flipping images with the help of numpy for images "
   ]
  },
  {
   "cell_type": "code",
   "execution_count": 1,
   "metadata": {},
   "outputs": [],
   "source": [
    "import matplotlib.pyplot as plt\n",
    "from skimage import data, io, color\n",
    "import numpy as np\n",
    "\n",
    "def show_image(image, title='Image', cmap_type='gray'):\n",
    "    plt.imshow(image, cmap=cmap_type)\n",
    "    plt.title(title)\n",
    "    plt.axis('off')\n",
    "    plt.show()\n",
    "\n",
    "#load the image of kolkata\n",
    "kolkata_image = plt.imread('kolkata.jpg')\n",
    "#flipping images vertically\n",
    "kolkata_image_flipped = np.flipud(kolkata_image)\n",
    "#flipping images horizontally\n",
    "kolkata_image_flipped1 = np.fliplr(kolkata_image)\n",
    "# Display the original image and the flipped image\n",
    "show_image(kolkata_image, 'Original Image')\n",
    "show_image(kolkata_image_flipped, 'Flipped Image')\n",
    "show_image(kolkata_image_flipped1, 'Flipped Image1')\n",
    "\n"
   ]
  },
  {
   "cell_type": "code",
   "execution_count": null,
   "metadata": {},
   "outputs": [],
   "source": []
  },
  {
   "cell_type": "code",
   "execution_count": 6,
   "metadata": {},
   "outputs": [],
   "source": [
    "#Histograms are a great way to understand the intensity distribution of an image.\n",
    "#The x-axis represents the intensity values, and the y-axis is the number of pixels in the image with that intensity value.\n",
    "#The histogram of an image can help you understand the contrast, brightness, and intensity distribution of the image.\n",
    "#The histogram of an image can be computed using the hist() function from the numpy library.\n",
    "#The hist() function takes the image as input and returns the histogram values and the intensity values.\n",
    "#The intensity values are the values of the pixels in the image, and the histogram values are the number of pixels in the image with that intensity value.\n",
    "#The histogram values can be used to plot the histogram of the image using the matplotlib library.\n",
    "#The plot() function from the matplotlib library can be used to plot the histogram of the image.\n",
    "#The plot() function takes the intensity values and the histogram values as input and plots the histogram of the image.\n",
    "\n",
    "import matplotlib.pyplot as plt\n",
    "from skimage import data, io, color\n",
    "import numpy as np\n",
    "\n",
    "def show_image(image, title='Image', cmap_type='gray'):\n",
    "    plt.imshow(image, cmap=cmap_type)\n",
    "    plt.title(title)\n",
    "    plt.axis('off')\n",
    "    plt.show()\n",
    "\n",
    "#load the image\n",
    "stock1 = plt.imread('stock1.jpg')\n",
    "#convert the image to grayscale\n",
    "stock1_gray = color.rgb2gray(stock1)\n",
    "# Display the original image and the grayscale image\n",
    "show_image(stock1, 'Original Image')\n",
    "show_image(stock1_gray, 'Grayscale Image')\n",
    "#histogram of the rgb image\n",
    "plt.hist(stock1.ravel(), bins=256, range=(0.0, 10.0), fc='k', ec='k')\n",
    "# Display the histogram of the image\n",
    "plt.title('Histogram of RGB image')\n",
    "plt.show()\n"
   ]
  },
  {
   "cell_type": "code",
   "execution_count": 23,
   "metadata": {},
   "outputs": [],
   "source": [
    "#small example for scikit image\n",
    "#https://scikit-image.org/docs/dev/auto_examples/edges/plot_canny.html\n",
    "# BEGIN: Install scikit-image\n",
    "!pip install scikit-image\n",
    "# END:"
   ]
  },
  {
   "cell_type": "code",
   "execution_count": 24,
   "metadata": {},
   "outputs": [],
   "source": [
    "#small example for scikit image\n",
    "#https://scikit-image.org/docs/dev/auto_examples/edges/plot_canny.html\n",
    "\n",
    "#skimage is a collection of algorithms for image processing in Python. \n",
    "# It is available free of charge and free of restriction. \n",
    "# We pride ourselves on high-quality, peer-reviewed code, written by an active community of volunteers.\n",
    "#and it is a part of scikit-learn where the data and io modules are used to load and save images in various formats.\n",
    "\n",
    "from skimage import data\n",
    "import matplotlib.pyplot as plt\n",
    "\n",
    "# the rocket image is a 2D numpy array\n",
    "rocket_image = data.rocket() #load the rocket image\n",
    "def show_image(image, title='SpaceX Elon Musk', cmap_type='cividis'): #display the image\n",
    "    plt.imshow(image, cmap=cmap_type)\n",
    "    plt.title(title)\n",
    "    plt.axis('off')\n",
    "    plt.show()\n",
    "\n",
    "show_image(rocket_image) #display the image\n",
    "\n",
    "\n"
   ]
  },
  {
   "cell_type": "code",
   "execution_count": 25,
   "metadata": {},
   "outputs": [],
   "source": [
    "from skimage import color\n",
    "from skimage import io\n",
    "#Load an image from file\n",
    "original = io.imread('1_I-RmaVnVfm6oouPAkerDHw.png')\n",
    "#Convert the image to grayscale\n",
    "grayscale = color.rgb2gray(original)\n",
    "#Convert the grayscale image to RGB\n",
    "rgb = color.gray2rgb(grayscale)\n",
    "#display the images\n",
    "io.imshow(original)\n",
    "io.show()\n",
    "io.imshow(grayscale)\n",
    "io.show()\n"
   ]
  },
  {
   "cell_type": "markdown",
   "metadata": {},
   "source": [
    "Is this gray or full of color?\n",
    "Whats the main difference between the images shown below?\n",
    "\n",
    "Image of coffee next to coins image\n",
    "These images have been preloaded as coffee_image and coins_image from the scikit-image data module using:\n",
    "\n",
    "coffee_image = data.coffee()\n",
    "coins_image = data.coins()\n",
    "Choose the right answer that best describes the main difference related to color and dimensional structure.\n",
    "\n",
    "In the console, use the function shape() from NumPy, to obtain the image shape (Height, Width, Dimensions) and find out. NumPy is already imported as np."
   ]
  },
  {
   "cell_type": "markdown",
   "metadata": {},
   "source": [
    "Possible answers\n",
    "\n",
    "\n",
    "Both have 3 channels for RGB-3 color representation.\n",
    "\n",
    "coffee_image has a shape of (303, 384), grayscale. And coins_image (400, 600, 3), RGB-3.\n",
    "\n",
    "coins_image has a shape of (303, 384), grayscale. And coffee_image (400, 600, 3), RGB-3. Correct option ✅\n",
    "\n",
    "Both are grayscale, with single color dimension."
   ]
  },
  {
   "cell_type": "code",
   "execution_count": 26,
   "metadata": {},
   "outputs": [],
   "source": [
    "from skimage import data, io\n",
    "import numpy as np\n",
    "#Load an image from the data module\n",
    "coffee_image = data.coffee()\n",
    "print(np.shape(coffee_image))\n",
    "#reshape\n",
    "coffee_image1 = coffee_image[0:200,0:200]\n",
    "print(np.reshape(coffee_image1, (200, 200, 3)))\n",
    "#print the 1st row of the image\n",
    "print(coffee_image[0][1])\n",
    "#Display the image\n",
    "io.imshow(coffee_image)\n",
    "#Show the plot\n",
    "io.show()\n",
    "coins_image = data.coins()\n",
    "print(np.shape(coins_image))\n",
    "#reshape\n",
    "coins_image1 = coins_image[0:200,0:200]\n",
    "print(np.reshape(coins_image1, (200, 200)))\n",
    "io.imshow(coins_image)"
   ]
  },
  {
   "cell_type": "code",
   "execution_count": 27,
   "metadata": {},
   "outputs": [],
   "source": [
    "!pip install numpy\n",
    "!pip install av"
   ]
  },
  {
   "cell_type": "code",
   "execution_count": 28,
   "metadata": {},
   "outputs": [],
   "source": [
    "import av\n",
    "import numpy as np\n",
    "from skimage import io\n",
    "\n",
    "# Open the video file\n",
    "container = av.open('3006961-hd_1280_720_24fps.mp4')\n",
    "\n",
    "# Iterate over frames in the video\n",
    "for frame in container.decode(video=0):\n",
    "    # Convert the frame to an image (PIL/Pillow format)\n",
    "    img = frame.to_image()\n",
    "    \n",
    "    # Convert the image to a NumPy array\n",
    "    img_array = np.array(img)\n",
    "    \n",
    "    # Process the image with skimage (e.g., convert to grayscale)\n",
    "    grayscale = color.rgb2gray(img_array)\n",
    "    \n",
    "    # Display the grayscale image\n",
    "    io.imshow(grayscale)\n",
    "    io.show()"
   ]
  },
  {
   "cell_type": "markdown",
   "metadata": {},
   "source": [
    "RGB to grayscale \n",
    "RGB to grayscale\n",
    "In this exercise you will load an image from scikit-image module data and make it grayscale, then compare both of them in the output.\n",
    "\n",
    "We have preloaded a function show_image(image, title='Image') that displays the image using Matplotlib. You can check more about its parameters using ?show_image() or help(show_image) in the console.\n",
    "\n",
    "\n",
    "Import the data and color modules from Scikit image. The first module provides example images, and the second, color transformation functions.\n",
    "Load the rocket image.\n",
    "Convert the RGB-3 rocket image to grayscale."
   ]
  },
  {
   "cell_type": "code",
   "execution_count": 13,
   "metadata": {},
   "outputs": [],
   "source": [
    "# Import the modules from skimage\n",
    "import matplotlib.pyplot as plt\n",
    "from skimage import color, data\n",
    "\n",
    "# Load the rocket image\n",
    "rocket = data.rocket()\n",
    "\n",
    "# Convert the image to grayscale\n",
    "gray_scaled_rocket = color.rgb2gray(rocket)\n",
    "\n",
    "def show_image(image, title='Image', cmap_type='gray'):\n",
    "    plt.imshow(image, cmap=cmap_type)\n",
    "    plt.title(title)\n",
    "    plt.axis('off')\n",
    "    plt.show()\n",
    "\n",
    "# Show the original image\n",
    "show_image(rocket, 'Original RGB image')\n",
    "\n",
    "# Show the grayscale image\n",
    "show_image(gray_scaled_rocket, 'Grayscale image')\n",
    "\n"
   ]
  },
  {
   "cell_type": "markdown",
   "metadata": {},
   "source": [
    "Numpy for Images:\n",
    "With NumPy, we can practice simple image processing techniques, such as flipping images, extracting features, and analyzing them."
   ]
  },
  {
   "cell_type": "markdown",
   "metadata": {},
   "source": [
    "Imagine that we have an image and we load it using matplotlib's imread() function. If you check it's type, using the type() python function, you can see that is a numpy ndarray object. Because images can be represented by NumPy multi-dimensional arrays (or \"NdArrays\"), NumPy methods for manipulating arrays work well on these images"
   ]
  },
  {
   "cell_type": "code",
   "execution_count": 2,
   "metadata": {},
   "outputs": [],
   "source": [
    "import matplotlib.pyplot as plt\n",
    "from skimage import data, io\n",
    "# load the image of madrid\n",
    "kolkata_image = plt.imread('kolkata.jpg')\n",
    "\n",
    "def show_image(image, title='Image', cmap_type='gray'):\n",
    "    plt.imshow(image, cmap=cmap_type)\n",
    "    plt.title(title)\n",
    "    plt.axis('off')\n",
    "    plt.show()\n",
    "\n",
    "print(kolkata_image.shape)\n",
    "# Display the image\n",
    "show_image(kolkata_image)\n",
    "#type of the image\n",
    "print(type(kolkata_image))\n"
   ]
  },
  {
   "cell_type": "markdown",
   "metadata": {},
   "source": [
    "Colors with NumPy\n",
    "\n",
    "Here we can see the individual color intensities along the image. For example, we obtain the red color of an image by keeping the height and width pixels and selecting only the values of the first color layer. Here we use Matplotlib to display them with the default colormap. We can observe the different intensities in their tone."
   ]
  },
  {
   "cell_type": "markdown",
   "metadata": {},
   "source": [
    "Color channels refer to the individual components of a color image, typically represented in the RGB (Red, Green, Blue) color model. Each channel contains the intensity values for one of the primary colors. Here's a brief overview:\n",
    "\n",
    "- **Red Channel**: Contains the intensity values for the red component of the image.\n",
    "- **Green Channel**: Contains the intensity values for the green component of the image.\n",
    "- **Blue Channel**: Contains the intensity values for the blue component of the image.\n",
    "\n",
    "When combined, these channels create the full-color image. If you have any specific questions or need help with a particular task involving color channels, feel free to ask! 😊"
   ]
  },
  {
   "cell_type": "markdown",
   "metadata": {},
   "source": [
    "The io.show() function in skimage is used to display the image that has been loaded or processed. When you call io.imshow(), it prepares the image for display, but it doesn’t actually render it on the screen. The io.show() function is what triggers the rendering process, making the image appear in a window or inline in a Jupyter notebook.\n",
    "\n",
    "Here’s a quick breakdown:\n",
    "\n",
    "io.imshow(image): Prepares the image for display.\n",
    "io.show(): Renders the prepared image on the screen.\n",
    "Without io.show(), the image won’t be displayed. It’s similar to how plotting works in libraries like Matplotlib, where you need to call plt.show() to actually display the plot."
   ]
  },
  {
   "cell_type": "markdown",
   "metadata": {},
   "source": [
    "In the context of images, the axes refer to the dimensions along which the image data is organized. Here's a breakdown:\n",
    "\n",
    "1. **X-axis (Horizontal Axis)**: This axis runs horizontally from left to right across the image. It represents the width of the image.\n",
    "2. **Y-axis (Vertical Axis)**: This axis runs vertically from top to bottom. It represents the height of the image.\n",
    "3. **Z-axis (Depth Axis)**: In the case of color images, there is often a third axis representing the color channels (e.g., Red, Green, Blue). This axis is sometimes referred to as the depth or channel axis.\n",
    "\n",
    "For a grayscale image, you typically have a 2D array where each element represents the intensity of a pixel at a specific (x, y) coordinate. For a color image, you have a 3D array where each element at (x, y, z) represents the intensity of a specific color channel at that pixel.\n",
    "\n",
    "Here's a visual representation:\n",
    "\n",
    "- **Grayscale Image**: \n",
    "  - Shape: (height, width)\n",
    "  - Example: `image[y, x]`\n",
    "\n",
    "- **Color Image**: \n",
    "  - Shape: (height, width, channels)\n",
    "  - Example: `image[y, x, c]` where `c` is the color channel (0 for Red, 1 for Green, 2 for Blue in an RGB image)\n",
    "\n",
    "If you have any more questions or need further clarification, feel free to ask! 📸"
   ]
  }
 ],
 "metadata": {
  "kernelspec": {
   "display_name": "venv",
   "language": "python",
   "name": "python3"
  },
  "language_info": {
   "codemirror_mode": {
    "name": "ipython",
    "version": 3
   },
   "file_extension": ".py",
   "mimetype": "text/x-python",
   "name": "python",
   "nbconvert_exporter": "python",
   "pygments_lexer": "ipython3",
   "version": "3.12.0"
  }
 },
 "nbformat": 4,
 "nbformat_minor": 2
}
